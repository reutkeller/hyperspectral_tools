{
 "cells": [
  {
   "cell_type": "code",
   "execution_count": 1,
   "metadata": {},
   "outputs": [],
   "source": [
    "#|default_exp clean_data"
   ]
  },
  {
   "cell_type": "markdown",
   "metadata": {},
   "source": [
    "# Clean data"
   ]
  },
  {
   "cell_type": "code",
   "execution_count": 2,
   "metadata": {},
   "outputs": [],
   "source": [
    "#|hide\n",
    "from nbdev.showdoc import *"
   ]
  },
  {
   "cell_type": "code",
   "execution_count": 4,
   "metadata": {},
   "outputs": [],
   "source": [
    "#|hide\n",
    "#|export\n",
    "\n",
    "import pandas as pd\n",
    "import numpy as np"
   ]
  },
  {
   "cell_type": "code",
   "execution_count": 17,
   "metadata": {},
   "outputs": [
    {
     "name": "stderr",
     "output_type": "stream",
     "text": [
      "<>:1: SyntaxWarning: invalid escape sequence '\\s'\n",
      "<>:4: SyntaxWarning: invalid escape sequence '\\o'\n",
      "<>:1: SyntaxWarning: invalid escape sequence '\\s'\n",
      "<>:4: SyntaxWarning: invalid escape sequence '\\o'\n",
      "C:\\Users\\USER\\AppData\\Local\\Temp\\ipykernel_14312\\876116856.py:1: SyntaxWarning: invalid escape sequence '\\s'\n",
      "  df = pd.read_csv(\"data\\samples_with oil_contaimated.csv\").T\n",
      "C:\\Users\\USER\\AppData\\Local\\Temp\\ipykernel_14312\\876116856.py:4: SyntaxWarning: invalid escape sequence '\\o'\n",
      "  df.to_csv(\"data\\original\\processesed\\samples_with oil_contaimated.csv\")\n"
     ]
    }
   ],
   "source": [
    "df = pd.read_csv(\"data\\samples_with oil_contaimated.csv\").T\n",
    "df.columns = df.iloc[0,:]\n",
    "df=df.iloc[1:,:]\n",
    "df.to_csv(\"data\\original\\processesed\\samples_with oil_contaimated.csv\")"
   ]
  },
  {
   "cell_type": "code",
   "execution_count": 15,
   "metadata": {},
   "outputs": [
    {
     "name": "stderr",
     "output_type": "stream",
     "text": [
      "<>:1: SyntaxWarning: invalid escape sequence '\\c'\n",
      "<>:4: SyntaxWarning: invalid escape sequence '\\o'\n",
      "<>:1: SyntaxWarning: invalid escape sequence '\\c'\n",
      "<>:4: SyntaxWarning: invalid escape sequence '\\o'\n",
      "C:\\Users\\USER\\AppData\\Local\\Temp\\ipykernel_14312\\2009996012.py:1: SyntaxWarning: invalid escape sequence '\\c'\n",
      "  df = pd.read_csv(\"data\\cleansamples_209.csv\").T\n",
      "C:\\Users\\USER\\AppData\\Local\\Temp\\ipykernel_14312\\2009996012.py:4: SyntaxWarning: invalid escape sequence '\\o'\n",
      "  df.to_csv(\"data\\original\\processesed\\cleansamples_209.csv\")\n"
     ]
    }
   ],
   "source": [
    "# df = pd.read_csv(\"data\\cleansamples_209.csv\").T\n",
    "# df.columns = df.iloc[0,:]\n",
    "# df=df.iloc[1:,:]\n",
    "# df.to_csv(\"data\\original\\processesed\\cleansamples_209.csv\")"
   ]
  },
  {
   "cell_type": "code",
   "execution_count": null,
   "metadata": {},
   "outputs": [],
   "source": []
  }
 ],
 "metadata": {
  "kernelspec": {
   "display_name": ".venv",
   "language": "python",
   "name": "python3"
  },
  "language_info": {
   "codemirror_mode": {
    "name": "ipython",
    "version": 3
   },
   "file_extension": ".py",
   "mimetype": "text/x-python",
   "name": "python",
   "nbconvert_exporter": "python",
   "pygments_lexer": "ipython3",
   "version": "3.12.1"
  }
 },
 "nbformat": 4,
 "nbformat_minor": 2
}
