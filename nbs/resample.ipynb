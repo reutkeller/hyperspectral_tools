{
 "cells": [
  {
   "cell_type": "code",
   "execution_count": 1,
   "metadata": {},
   "outputs": [],
   "source": [
    "#|default_exp resample_img"
   ]
  },
  {
   "cell_type": "markdown",
   "metadata": {},
   "source": [
    "# Resampling hyperspectral data"
   ]
  },
  {
   "cell_type": "code",
   "execution_count": 2,
   "metadata": {},
   "outputs": [],
   "source": [
    "#|hide\n",
    "from nbdev.showdoc import *"
   ]
  },
  {
   "cell_type": "code",
   "execution_count": 3,
   "metadata": {},
   "outputs": [],
   "source": [
    "#|hide\n",
    "#|export\n",
    "\n",
    "import numpy as np\n",
    "import pandas as pd\n",
    "from spectral import BandResampler\n",
    "import matplotlib.pyplot as plt\n",
    "\n",
    "\n",
    "from hyperspectral_tools import const_vals as CONST"
   ]
  },
  {
   "cell_type": "code",
   "execution_count": 14,
   "metadata": {},
   "outputs": [],
   "source": [
    "#|export\n",
    "\n",
    "class Resample():\n",
    "\n",
    "  def __init__(self,\n",
    "               path_to_spectrum : str , #Path to a CSV file containing spectral bands as float values stored as strings. Ensure that only columns with spectral data have digit-only names strings.\n",
    "               bands_center : list , # list of band center of specific sensor\n",
    "               fwhm : list , # \n",
    "               ):\n",
    "          \n",
    "          #read the dataframe\n",
    "          init_df = pd.read_csv(path_to_spectrum)\n",
    "          # filter to get only spectral data and change columns type to numeric\n",
    "          df = init_df.loc[:, init_df.columns[init_df.columns.str.isdigit()]]\n",
    "          df.columns=pd.to_numeric(df.columns)\n",
    "          self.df = df\n",
    "          #save the non spectral data\n",
    "          self.non_spectral_data =init_df.loc[:, init_df.columns[~init_df.columns.str.isdigit()]]\n",
    "\n",
    "          #spectrum lists\n",
    "          self.center_bands = bands_center\n",
    "          self.fwhm = fwhm\n",
    "\n",
    "          # Call resample_data method \n",
    "          self.resampled_df = self.resample_data()\n",
    "\n",
    "          # Merge the non spectral data with spectral data\n",
    "          self.resampled_final = self.merge_resample_with_original_data()\n",
    "\n",
    "\n",
    "  def resample_data(self):\n",
    "      resampler = BandResampler(self.df.columns.tolist(), \n",
    "                                   self.center_bands, \n",
    "                                   fwhm1=None, \n",
    "                                   fwhm2=self.fwhm)\n",
    "      collect_res=[]\n",
    "      for index,row in self.df.iterrows():\n",
    "           tmp=self.df.iloc[index].values\n",
    "           resampled_res=resampler(tmp)\n",
    "           collect_res.append(resampled_res)\n",
    "\n",
    "      self.resampled_data=pd.DataFrame(collect_res,columns=self.center_bands)\n",
    "\n",
    "      return self.resampled_data\n",
    "  \n",
    "  def merge_resample_with_original_data(self):\n",
    "       self.df_resampled_final =pd.concat([self.non_spectral_data,self.resampled_df],axis=1)\n",
    "\n",
    "       return self.df_resampled_final\n",
    "           \n",
    "  \n",
    "\n"
   ]
  },
  {
   "cell_type": "code",
   "execution_count": 16,
   "metadata": {},
   "outputs": [
    {
     "name": "stderr",
     "output_type": "stream",
     "text": [
      "<>:1: SyntaxWarning: invalid escape sequence '\\o'\n",
      "<>:1: SyntaxWarning: invalid escape sequence '\\o'\n",
      "C:\\Users\\USER\\AppData\\Local\\Temp\\ipykernel_21684\\4227796831.py:1: SyntaxWarning: invalid escape sequence '\\o'\n",
      "  instance = Resample(path_to_spectrum = \"data\\original\\processesed\\cleansamples_209.csv\",\n"
     ]
    }
   ],
   "source": [
    "instance = Resample(path_to_spectrum = \"data\\original\\processesed\\cleansamples_209.csv\",\n",
    "                    bands_center = CONST.s2_center_sen,\n",
    "                    fwhm = CONST.s2_fwhm_sen\n",
    "                    )\n",
    "\n",
    "test=instance.resampled_final\n",
    "# test.dtypes"
   ]
  },
  {
   "cell_type": "code",
   "execution_count": 29,
   "metadata": {},
   "outputs": [
    {
     "data": {
      "text/plain": [
       "[<matplotlib.lines.Line2D at 0x20645b46990>]"
      ]
     },
     "execution_count": 29,
     "metadata": {},
     "output_type": "execute_result"
    },
    {
     "data": {
      "image/png": "[encoded data removed]",
      "text/plain": [
       "<Figure size 640x480 with 1 Axes>"
      ]
     },
     "metadata": {},
     "output_type": "display_data"
    }
   ],
   "source": [
    "# Plot the data from test.iloc[0, 8:]\n",
    "\n",
    "\n",
    "# Plot the data from instance.df.iloc[0]\n",
    "plt.plot(instance.df.iloc[0], label='instance')\n",
    "\n",
    "plt.plot(test.iloc[0, 8:], label='test')"
   ]
  },
  {
   "cell_type": "code",
   "execution_count": null,
   "metadata": {},
   "outputs": [],
   "source": [
    "#resampler_ven=BandResampler(df.columns.tolist(), center_ven, fwhm1=None, fwhm2=fwhm_ven)"
   ]
  }
 ],
 "metadata": {
  "kernelspec": {
   "display_name": ".venv",
   "language": "python",
   "name": "python3"
  },
  "language_info": {
   "codemirror_mode": {
    "name": "ipython",
    "version": 3
   },
   "file_extension": ".py",
   "mimetype": "text/x-python",
   "name": "python",
   "nbconvert_exporter": "python",
   "pygments_lexer": "ipython3",
   "version": "3.12.1"
  }
 },
 "nbformat": 4,
 "nbformat_minor": 2
}
